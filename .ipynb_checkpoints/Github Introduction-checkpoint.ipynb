{
 "cells": [
  {
   "cell_type": "markdown",
   "metadata": {},
   "source": [
    "# Intro to Github\n",
    "\n",
    "FISH 510\n",
    "\n",
    "Week 8 Class\n",
    "\n",
    "<br>\n",
    "**References**: \n",
    "\n",
    "\"Bioinformatics Data Skills, Chapter 5: Git for Scientists\". \n",
    "\n",
    "Github's [Online Reference Guide](https://git-scm.com/docs)\n",
    "\n",
    "Github's [cheatsheet](https://services.github.com/on-demand/downloads/github-git-cheat-sheet.pdf)\n",
    "\n",
    "\n",
    "<br>\n",
    "**Topics Covered**:\n",
    "\n",
    "1. Creating a Github account online\n",
    "2. Installing Github on the desktop and the Git GUI\n",
    "3. Creating and cloning repositories\n",
    "4. Repository-related functions online\n",
    "5. Committing\n",
    "6. Interacting with other Git users\n",
    "7. Branching\n",
    "8. Publishing and Privacy"
   ]
  },
  {
   "cell_type": "markdown",
   "metadata": {},
   "source": [
    "## Getting Setup: Create an Account, Install Git\n",
    "\n",
    "Sign up for github [here](https://github.com/join?source=header-home). \n",
    "\n",
    "Then, [download the desktop version](https://desktop.github.com/). \n",
    "\n",
    "If you are working on WINDOWS, then you'll also want to [install Git Bash](https://git-scm.com/download/win). \n",
    "\n",
    "\n",
    "<br>\n",
    "<br>\n",
    "## Basics of repositories\n",
    "\n",
    "### Creating repositories\n",
    "\n",
    "A repository is like a root directory or a filing cabinet. It will contain all of the files \n",
    "Repositories can be created either on your desktop or online. We'll go through both ways here, by making two practice repositories. You can delete them later. \n",
    "<br>\n",
    "\n",
    "** Creating an online repository **\n",
    "\n",
    "When working with bioinformatics data: You'll want to initialize the repository with a README file AND with a .gitignore file. In the online repository this can be done by simply checking a button. In the desktop version, you'll have to create it yourself. \n",
    "\n",
    "*option 1*\n",
    "- navigate to your profile\n",
    "- go to the tab 'repositories'\n",
    "- select the green \"NEW\" button\n",
    "\n",
    "\n",
    "*option 2* \n",
    "- in the upper right corner of the screen, there is a `+` button\n",
    "- on the dropdown menu, select \"New Repository\"\n",
    "\n",
    "\n",
    "<br>\n",
    "** Creating a repository on the desktop **\n",
    "\n",
    "*option 1*\n",
    "- in the Github GUI, select the `+` in the upper left corner\n",
    "\n",
    "*option 2*\n",
    "- in your file directory, create a new folder and assign it the repository name. \n",
    "- open your terminal or git bash window and navigate to that directory\n",
    "- from within that folder, use the following code to initiate the repository: \n",
    "`git init .`\n"
   ]
  },
  {
   "cell_type": "code",
   "execution_count": 1,
   "metadata": {
    "collapsed": false,
    "scrolled": true
   },
   "outputs": [
    {
     "data": {
      "text/plain": [
       "u'/mnt/hgfs/Pacific cod/DataAnalysis/PCod-Korea-repo/notebooks'"
      ]
     },
     "execution_count": 1,
     "metadata": {},
     "output_type": "execute_result"
    }
   ],
   "source": [
    "pwd"
   ]
  },
  {
   "cell_type": "code",
   "execution_count": 2,
   "metadata": {
    "collapsed": false
   },
   "outputs": [
    {
     "name": "stdout",
     "output_type": "stream",
     "text": [
      "/mnt/hgfs/Pacific cod\n"
     ]
    }
   ],
   "source": [
    "cd ../../../"
   ]
  },
  {
   "cell_type": "code",
   "execution_count": 3,
   "metadata": {
    "collapsed": true
   },
   "outputs": [],
   "source": [
    "!mkdir practice_repo"
   ]
  },
  {
   "cell_type": "code",
   "execution_count": 4,
   "metadata": {
    "collapsed": false,
    "scrolled": false
   },
   "outputs": [
    {
     "name": "stdout",
     "output_type": "stream",
     "text": [
      "/mnt/hgfs/Pacific cod/practice_repo\n"
     ]
    }
   ],
   "source": [
    "cd practice_repo"
   ]
  },
  {
   "cell_type": "code",
   "execution_count": null,
   "metadata": {
    "collapsed": true
   },
   "outputs": [],
   "source": [
    "!git init ."
   ]
  },
  {
   "cell_type": "markdown",
   "metadata": {},
   "source": [
    "<img src = \"initialize_git.png\">"
   ]
  },
  {
   "cell_type": "markdown",
   "metadata": {},
   "source": [
    "\n",
    "<br>\n",
    "** Including a README **\n",
    "- create a text file called: README.md in the root folder of your repository\n",
    "- Best Practices - what to include: overall description of the project, all programs and the version of those programs that you'll be using, an outline of the folders in the repo and what they contain. Here is [an example](https://github.com/mfisher5/mf-fish546-PCod/blob/master/README.md)\n",
    "\n",
    "*Discussion: what makes a good README? what do collaborators find most helpful? *\n",
    "<br>\n",
    "\n",
    "** Including a .gitignore**\n",
    "- open an empty text file in your repository >> save as >> file name: .gitignore >> file type: \"all types\"\n",
    "- if your computer won't let you save as anything other than a text file, then you can save it with the extension of a text file and then manually remove the extension by renaming it in your folder browser. \n",
    "- the .gitignore file will show up as an unnamed file in your repository, with a text file icon. \n",
    "\n",
    "\n",
    "<br>\n",
    "<br>\n",
    "### Cloning repositories\n",
    "\n",
    "We now have two repositories, one on the desktop and one online. Let's start by getting both repositories online, and both repositories on the desktop. We'll work mostly from the command line here, but you can also do this through the github GUI. \n",
    "\n",
    "<br>\n",
    "** Cloning from online to the desktop **\n",
    "- in your browser, navigate to the main page of the repository\n",
    "- select \"clone or download\", and then copy the URL\n",
    "- in the command line, navigate to the directory where you want to add your repository and use the following code: \n",
    "\n",
    "`git clone $COPIED LINK`\n",
    "\n",
    "\n",
    "\n",
    "<img src = \"clone_git.png\">\n"
   ]
  },
  {
   "cell_type": "code",
   "execution_count": 6,
   "metadata": {
    "collapsed": false
   },
   "outputs": [
    {
     "name": "stdout",
     "output_type": "stream",
     "text": [
      "/mnt/hgfs/Pacific cod\n"
     ]
    }
   ],
   "source": [
    "cd ../"
   ]
  },
  {
   "cell_type": "code",
   "execution_count": 7,
   "metadata": {
    "collapsed": false
   },
   "outputs": [
    {
     "name": "stdout",
     "output_type": "stream",
     "text": [
      "/mnt/hgfs/Pacific cod/FISH_510\n"
     ]
    }
   ],
   "source": [
    "cd FISH_510"
   ]
  },
  {
   "cell_type": "code",
   "execution_count": 8,
   "metadata": {
    "collapsed": false
   },
   "outputs": [
    {
     "name": "stdout",
     "output_type": "stream",
     "text": [
      "\u001b[0m\u001b[01;32mREADME.md\u001b[0m*\r\n"
     ]
    }
   ],
   "source": [
    "ls"
   ]
  },
  {
   "cell_type": "markdown",
   "metadata": {},
   "source": [
    "** Cloning from the desktop to online **\n",
    "\n",
    "My practice repository on the desktop has a `README.md` and a `.gitignore` file. Note that the `.gitignore` file doesn't show up when you list the files on the command line, but it is still there"
   ]
  },
  {
   "cell_type": "code",
   "execution_count": 9,
   "metadata": {
    "collapsed": false
   },
   "outputs": [
    {
     "name": "stdout",
     "output_type": "stream",
     "text": [
      "/mnt/hgfs/Pacific cod/practice_repo\n"
     ]
    }
   ],
   "source": [
    "cd ../practice_repo/"
   ]
  },
  {
   "cell_type": "code",
   "execution_count": 10,
   "metadata": {
    "collapsed": false
   },
   "outputs": [
    {
     "name": "stdout",
     "output_type": "stream",
     "text": [
      "\u001b[0m\u001b[01;32mREADME.md\u001b[0m*\r\n"
     ]
    }
   ],
   "source": [
    "ls"
   ]
  },
  {
   "cell_type": "markdown",
   "metadata": {},
   "source": [
    "- create a new repository online with the same name, but without the README or .gitignore files\n",
    "- when the \"quick setup\" page pops up, copy the remote repository HTTPS URL\n",
    "- switch back to the command line on your desktop\n",
    "- the steps are below; we'll go more into what they mean in the next section\n",
    "\n",
    "<br>\n",
    "*Checking your repository status*\n",
    "- at the command line, navigate to your repository folder. Enter \n",
    "\n",
    "        `git status` \n",
    "\n",
    "\n",
    "<br>\n",
    "*Tracking files*\n",
    "- in order to move files between your desktop and online, the files must be \"tracked.\" Right now, Git is not tracking your files. To make Git track all of your files, use the command \n",
    "\n",
    "        `git add .` \n",
    "        \n",
    "- if you only want to track certain files, you can instead use the command \n",
    "\n",
    "        `git add README.md`\n",
    "\n",
    "\n",
    "\n",
    "*Committing files* \n",
    "- now that you've started tracking your files, you can upload them to the remote repository using the command \n",
    "\n",
    "        `git commit -m \"First Commit\" `\n",
    " \n",
    "\n",
    "<br>\n",
    "*Setting up the remote repository*\n",
    "- before you can push these changes to your remote repository, you have to tell Git where that repository exists. you also want to set that remote repository as the \"origin\", so that when you push or pull changes from that remote repository in the future, you can always refer to the remote as \"origin\". You can do this with the command \n",
    "\n",
    "        `git remote add origin` $ONLINE_REMOTE_URL, where the URL is the one you copied above. \n",
    "\n",
    "- verify that the remote exists using \n",
    "        `git remote -v`\n",
    "\n",
    "\n",
    "*Pushing to the remote*\n",
    "- once you have committed the changes, you can \"push\" these changes to your new remote repository with the command \n",
    "\n",
    "        `git push origin master` \n",
    "        \n",
    "\n",
    "<br>\n",
    "In the git bash terminal, this process looks like: \n",
    "<img src = \"clone_desktop_to_online.png\">"
   ]
  },
  {
   "cell_type": "markdown",
   "metadata": {
    "collapsed": true
   },
   "source": [
    "### Deleting a Repository\n",
    "\n",
    "You now have two working repositories. For the rest of this demonstration, you'll only need one. You can go ahead and manually delete one of those repositories from both your online profile and your computer. \n",
    "\n",
    "<br>\n",
    "An important note about deleting repositories: These steps **permanently** delete **everything** related to that repository - that includes the repo, wiki, issues, and comments. If you are   working with a private repository, you will also delete all of its related forks. \n",
    "\n",
    "<br>\n",
    "<br>\n",
    "\n",
    "\n",
    "\n",
    "## Committing\n",
    "\n",
    "While cloning our repository from our desktop to our computer, we've already gone through the process of committing changes to a remote repository. But we'll review it here in more detail. \n",
    "\n",
    "Committing essentially allows you to copy the local changes you make on your desktop to the remote repository online. This flowchart, from the book *Bioinformatics Data Skills*, gives a good overview of the process. \n",
    "\n",
    "<img src = \"commit_flowchart.png\">\n",
    "\n",
    "\n",
    "### How to commit changes made on the desktop \n",
    "\n",
    "**Exercise**: we need some changes to send to our remote repository. Edit your README.md file on your desktop to describe your latest project or, if you're familiar with markdown, include a picture of your study organism.  \n",
    "<br>\n",
    "\n",
    "Working at the command line, from within your git repository: \n",
    "\n",
    "<br>\n",
    "`git status` : Describes the current state of your repository. It (1) Tells you which branch you are working on. The default branch is the \"master.\" (2) Gives you information about the files in your repository, including which files have changed since your last commit, which files you are tracking, and which files you are not tracking. \n",
    "\n",
    "<br>\n",
    "`git add`: This has two functions. The one we see here is that it tells git that it needs to start tracking files. Git *will not* submit changes to your remote repository unless they are being tracked. You can tell git to track *all* files with `git add .`, or to track only specific files with `git add README.md`. \n",
    "\n",
    "What if we accidentally tell git to track a file that we don't want tracked? Use the command `git rm README.md`: to tell git to stop tracking that file. \n",
    "\n",
    "The second function of `git add` is to stage changes made to an already tracked file. This comes up when you have already gone through the commit process once, have made changes to a file, and are now going back to commit the new changes. When you enter `git status`, it will show you something like this: \n",
    "\n",
    "<img src = \"git_add.png\">\n",
    "\n",
    "What is happening here? There is actually a subtle difference between *tracked* files, and *tracked files with staged changes*. Git will continue tracking changes made to a file after you first tell it to with `git add`, but these new changes will not be included in the next commit unless they are staged. \n",
    "\n",
    "<br>\n",
    "`git commit -m \"your message here\"`: commits all of the tracked files with staged changes to be pushed to the remote repository. You can customize the message to help you keep track of what was included in that commit. \n",
    "\n",
    "What if you commit changes that you don't want to push to your remote repository? Use the command `git reset`. \n",
    "\n",
    "<br>\n",
    "`git push origin master` : This takes all of the changes you committed and pushes them from the working branch of your local repository (\"master\") to your remote repository (\"origin\").\n",
    "\n",
    "\n",
    "<br> \n",
    "** The shortcut: ** If you, like me, are not a complex and intense github user, you will probably always want to commit every change made to every file. You can use the following shortcut to track file changes, stage them, and then commit them to be pushed in one command:\n",
    "\n",
    "`git commit -a -m \"your message here\" `\n",
    "\n",
    "<br>\n",
    "<br>\n",
    "### How to pull changes made online to the desktop\n",
    "\n",
    "**Exercise** : use `git status` to make sure that you have no new changes on your local repository. Online, edit your README.md file to include your name, lab, and the initialization date. \n",
    "\n",
    "\n",
    "`git pull`: Since we assigned our remote repository as the \"origin\", and told git to track the remote master branch with our `git clone` command, this automatically merges changes from the remote repository with our local repository\n",
    "\n",
    "`git fetch origin` or\n",
    "\n",
    "`git fetch $remote name ` : This downloads any new work that has been pushed to the remote repository since you last cloned, or pulled, from it. However, it does not automatically merge these changes with your local repository. This is a good alternative when you are working on a repository with several collaborators, or if you are dealing with a merge conflict. \n"
   ]
  },
  {
   "cell_type": "markdown",
   "metadata": {},
   "source": [
    "<br>\n",
    "<br>\n",
    "\n",
    "### Troubleshooting: Merge Conflicts\n",
    "\n",
    "A **merge conflict** occurs when you make changes to both your remote repository and to your local repository, and you then try to push these changes one way or the other. The error message looks something like this: \n",
    "\n",
    "<img src = \"merge_conflict_error.png\">\n",
    "\n",
    "\n",
    "Some best practices to AVOID having to troubleshoot a merge conflict: \n",
    "- try to make changes only on your desktop; avoid making changes both online and on your desktop\n",
    "- unless you have a specific reason not to, add >> commit >> push the new versions of all of your files EVERY TIME you make changes to them\n",
    "\n",
    "<br>\n",
    "<br>\n",
    "You have several options to help you resolve a merge conflict: \n",
    "\n",
    "\n",
    "1. Use `git status`: Will inform you which file in your local repository has a merge conflict, which you can then manually check out.\n",
    "    \n",
    "    - navigate to that file\n",
    "    - search the file for the conflict marker `<<<<<<<`. \n",
    "    - changes from the base branch are marked after the line `<<<<<<< HEAD`. \n",
    "    - next, you'll see `=======`, which divides your changes from the changes in the other branch, followed by `>>>>>>> BRANCH-NAME`\n",
    "    - Decide if you want to keep only your branch's changes, keep only the other branch's changes, or make a brand new change, which may incorporate changes from both branches. Delete the conflict markers `<<<<<<<`, `=======`, `>>>>>>>` and make the changes you want in the final merge\n",
    "    - stage and commit your changes, then push them to the remote. \n",
    "    \n",
    "\n",
    "2. `git diff` : this let's you see the differences between the files in your local repository and what has been staged for commit. If nothing is staged for commit, it shows the difference between your last commit and the current versions of the files. \n",
    "    - after receiving a \"merge conflict\" message, you may have to use `git reset` to unstage the changes\n",
    "    - use `git diff` to see the changes you have made to your files in your local repository. It will show the conflict markers described in option one, just in the terminal. \n",
    "    - go into the file and delete the changes\n",
    "    - stage and commit your corrected file. \n",
    "\n",
    "\n",
    "<br>\n",
    "\n",
    "And if all else fails, you can delete either the remote or desktop repository and clone again. \n",
    "\n",
    "\n",
    "**Exercise: ** Create and solve a merge conflict. Make an edit to your README.md on your desktop, and then, without pushing the changes to the remote, make an edit to your README.md online. Then try to push or pull your changes. \n",
    "\n",
    "\n",
    "<br>\n",
    "\n",
    "<img src = \"merge_conflict_corrected.png\">"
   ]
  },
  {
   "cell_type": "markdown",
   "metadata": {
    "collapsed": true
   },
   "source": [
    "<br>\n",
    "<br>\n",
    "\n",
    "## Back to the Basics: Exploring Github\n",
    "\n",
    "\n",
    "Your profile \n",
    "\n",
    "Your repositories \n",
    "- *Issues* let you ask questions or chat about certain items in the repository. You can post issues for everyone to answer, or request that certain people respond. \n",
    "\n",
    "**Exercise** : Find my profile and go into my `FISH_510` repository. You'll see that I have created an issue - respond to it! Then try creating your own issue. \n",
    "\n",
    "- *Wiki* is like a README.md file but is more flexible. For a good example of a wiki, check out Stephen Roberts' for his [bioinformatics class](https://github.com/sr320/course-fish546-2016/wiki)\n",
    "\n",
    "**Discuss** : What are some of the most important functions / pages on Github that you see? \n",
    "\n",
    "\n",
    "<br>\n",
    "<br>\n",
    "\n",
    "## Branching\n",
    "\n",
    "\n",
    "\n",
    "The branching structure of Github allows you to\n",
    "\n",
    "1. Make experimental changes to a project without adversely affecting your main body of work (**make branches within your own repositories**)\n",
    "\n",
    "2. Make collaboration easier (**make branches of other users' repositories**)\n",
    "\n",
    "\n",
    "\n",
    "<br>\n",
    "### Branching how to\n",
    "\n",
    "\n",
    "\n",
    "<img src = \"branching.png\" >\n",
    "\n",
    "\n",
    "<br>\n",
    "<br>\n",
    "**Local use**\n",
    "\n",
    "Some nomenclature: *master branch* is the original version of your repo. *new branch* is the... new branch. \n",
    "\n",
    "1. From within your git repo, add a branch at the command line with \n",
    "\n",
    "    `git branch [new branch name]`\n",
    "<br>\n",
    "<br>\n",
    "2. You'll need to instruct github to switch you from the master (which should be starred in the terminal) to the new branch. \n",
    "\n",
    "    `git checkout [new branch name]`\n",
    "<br>\n",
    "<br>\n",
    "3. You can now change any files, stage the changes, and commit them to the new branch. \n",
    "\n",
    "4. When you push these changes to your remote repo, Github will register that you have two branches in your repository. \n",
    "\n",
    "5. If you want to merge the branches, you want to first switch to the branch you want to move the changes *into* \n",
    "<br>\n",
    "<br>\n",
    "    `git checkout master`\n",
    "   \n",
    "    `git merge [new branch name]`\n",
    "    \n",
    "\n",
    "**Exercise:** First, make sure that your local repository is up to date with your remote. Then, create a new branch called \"new-readme\". From within this new branch, make a change to your README.md file. Then merge the \"new-readme\" branch back into the master branch. \n",
    "\n",
    "<br>\n",
    "<br>\n",
    "**On Github **\n",
    "\n",
    "Some nomenclature: *your repo* is the copied version of the original repository that you are editing. *creator's repo* is the original repository that you created a forked branch from. \n",
    "\n",
    "1. copy someone else's repository by creating a \"fork\". This essentially takes their entire repository and copies it to your profile. You can now edit the contents of your repo, either online or on the desktop. \n",
    "\n",
    "2. when you push commits from your local files to the remote for this repo, it *will not change the creator's repo*. The only copy that changes is yours. \n",
    "\n",
    "3. if you want to merge your changes in your repo with the original creator's repo, create a pull request. this lets the creator know that you have made changes that you think they should consider. Pull requests can also be used as a way to open up a conversation about an issue or share a developing feature. \n",
    "\n",
    "4. the creator can either accept your pull request and merge your repo's changes with their original repo, or reject the pull request. \n",
    "\n",
    "<br>\n",
    "*Troubleshooting: What if changes have been made to the creator's repo since the last time you created your own branch? *\n",
    "\n",
    "<br>\n",
    "\n",
    "\n",
    "### Exercise: Putting it all together\n",
    "\n",
    "In this exercise, you'll create your own working branch of someone else's practice repository, add a Jupyter notebook to your copy of the repository on your desktop, push the changes to your remote repository on Github, and then submit a pull request asking the other person to merge your changes with their original branch. \n",
    "\n",
    "\n",
    "1. Using the github search bar and the \"users\" tab, find the profile of the person next to you. \n",
    "\n",
    "2. Create a \"fork\" of their practice repository. \n",
    "\n",
    "2. Clone your newly copied repository onto your computer. \n",
    "\n",
    "3. Access the repository from either the command line or your folder browser. create a directory called \"notebooks\"\n",
    "\n",
    "4. At the command line, open up Jupyter notebooks in the \"notebooks\" directory. \n",
    "\n",
    "5. Create a new python [default] notebook. Title it \"FISH_510\"\n",
    "\n",
    "6. You can save and close the notebook. \n",
    "\n",
    "7. Open the README.md text file, and add a line which says \"Program versions: Jupyter ___\"\n",
    "\n",
    "7. Push your changes to your remote repository\n",
    "\n",
    "8. When you go to your main repo page, you'll notice that it now says \"This branch is 1 commit ahead...\". Create a pull request to suggest that the other person incorporate your changes into their original repository. \n",
    "\n",
    "9. Explore the \"Open a pull request\" page while you're there. \n",
    "\n",
    "10. Housekeeping: delete your branch of their repository. \n",
    "\n",
    "\n",
    "\n",
    "<br>\n",
    "<br>\n",
    "<br>\n",
    "### Branching and workflows\n",
    "\n",
    "It's important to note that there are MANY DIFFERENT TYPES OF WORKFLOWS on Github because of the branching structure. Someone wrote [an entire blog](https://www.atlassian.com/git/tutorials/comparing-workflows#forking-workflow) about how and when to use each type of workflow. \n",
    "\n",
    "<br>\n",
    "**centralized workflow**\n",
    "\n",
    "The textbook discussed the use of the **centralized workflow** as a good way to collaborate, which was described as collaborators taking turns editing the contents of the repository. This works well when you carefully manager when certain collaborators are editing the repo, or if different collaborators are editing different parts of the project. However, using a shared central repository this way can lead to merge conflicts. \n",
    "\n",
    "*Troubleshooting: What if changes have been made to the shared repository since the last time you created your own branch? *\n",
    "\n",
    "`git pull --rebase origin master`\n",
    "You can tell git to incorporate these \"upstream\" changes into your repository, which essentially pulls the entire commit history since you last updated your repository, and then tries to integrate it with your local changes. \n",
    "\n",
    "If you find that the \"upstream\" changes occurred in the same files where you made your local changes, you'll have to go through the process of troubleshooting the merge conflict, which you can do using the same protocol discussed previously. \n",
    "\n",
    "<br>\n",
    "**Other workflows** include **featured branch**, **gitflow**, **forking**. \n",
    "\n",
    "\n",
    "<br>\n",
    "\n",
    "\n",
    "<br>\n",
    "<br>\n",
    "<br>\n",
    "## Working with your commit history"
   ]
  },
  {
   "cell_type": "code",
   "execution_count": null,
   "metadata": {
    "collapsed": true
   },
   "outputs": [],
   "source": []
  }
 ],
 "metadata": {
  "anaconda-cloud": {},
  "kernelspec": {
   "display_name": "Python [default]",
   "language": "python",
   "name": "python2"
  },
  "language_info": {
   "codemirror_mode": {
    "name": "ipython",
    "version": 2
   },
   "file_extension": ".py",
   "mimetype": "text/x-python",
   "name": "python",
   "nbconvert_exporter": "python",
   "pygments_lexer": "ipython2",
   "version": "2.7.12"
  }
 },
 "nbformat": 4,
 "nbformat_minor": 1
}
