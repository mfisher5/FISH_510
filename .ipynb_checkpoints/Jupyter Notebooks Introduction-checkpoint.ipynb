{
 "cells": [
  {
   "cell_type": "markdown",
   "metadata": {},
   "source": [
    "# Jupyter Notebooks\n",
    "\n",
    "This notebook explores the many uses of Jupyter notebooks and some best practices, as well as a Markdown \"cheatsheet\"\n",
    "\n",
    "**References:**"
   ]
  },
  {
   "cell_type": "markdown",
   "metadata": {},
   "source": [
    "### Getting started\n",
    "\n",
    "**Python and Jupyter Notebook**\n",
    "\n",
    "If you do not already have Python installed on your computer, use [Anaconda](https://www.continuum.io/downloads) to install both Python and Jupyter notebook. I work with Python 2.7 version. \n",
    "\n",
    "To check which version of python you have installed use `python --version`\n",
    "\n",
    "<br>\n",
    "If you do have Python 2.7 or Python 3.3 + alreayd installed on your computer, use the following code in the terminal to install Jupyter with Python's package manager: \n",
    "\n",
    "`pip3 install --upgrade pip`\n",
    "\n",
    "`pip3 install jupyter`\n",
    "<br>\n",
    "\n",
    "For troubleshooting, see [Jupyter installation help site](https://jupyter.readthedocs.io/en/latest/install.html#prerequisite-python)\n",
    "\n",
    "<br>\n",
    "\n",
    "**Git Bash**\n",
    "\n",
    "If you are working on a windows computer, install [git for windows](https://git-for-windows.github.io/)\n",
    "\n",
    "<br>\n",
    "\n",
    "**Start the notebook**\n",
    "\n",
    "At the terminal, navigate to the directory where you want your notebook to reside. For example: \n"
   ]
  },
  {
   "cell_type": "code",
   "execution_count": 8,
   "metadata": {
    "collapsed": false
   },
   "outputs": [
    {
     "data": {
      "text/plain": [
       "u'/mnt/hgfs/Pacific cod/FISH_510'"
      ]
     },
     "execution_count": 8,
     "metadata": {},
     "output_type": "execute_result"
    }
   ],
   "source": [
    "pwd"
   ]
  },
  {
   "cell_type": "code",
   "execution_count": 9,
   "metadata": {
    "collapsed": false,
    "scrolled": true
   },
   "outputs": [
    {
     "name": "stdout",
     "output_type": "stream",
     "text": [
      "/mnt/hgfs/Pacific cod/DataAnalysis/PCod-Korea-repo/notebooks\n"
     ]
    }
   ],
   "source": [
    "cd ../DataAnalysis/PCod-Korea-repo/notebooks/"
   ]
  },
  {
   "cell_type": "code",
   "execution_count": null,
   "metadata": {
    "collapsed": true
   },
   "outputs": [],
   "source": [
    "jupyter notebook"
   ]
  },
  {
   "cell_type": "markdown",
   "metadata": {},
   "source": [
    "Note that this DOES NOT have to be a github repository, like mine is. \n",
    "\n",
    "<br>\n",
    "The `jupyter notebook` command will open your Jupyter Notebook Home page. There are several other commands that you can use to call other Jupyter Notebook functions: \n",
    "\n",
    "`jupyter -h` , `jupyter --help` : to pull up a helpf file\n",
    "\n",
    "`jupyter --paths` : to show the location of of all Jupyter directories and search paths. \n"
   ]
  },
  {
   "cell_type": "markdown",
   "metadata": {},
   "source": [
    "### Types of Files\n",
    "\n",
    "**terminal:** Run interactive scripts\n",
    "\n",
    "**Python conda root v. default: ** it has to do with the environment that the \"kernels\" point to. Since we haven't created any conda environments, the only environment is the \"root\" environment set up by default in Anaconda. If you're really interested, you can check out [this issue](https://github.com/jupyter/notebook/issues/1850) on Github. \n",
    "<br>\n"
   ]
  },
  {
   "cell_type": "markdown",
   "metadata": {},
   "source": [
    "### Working in Jupyter notebook\n",
    "\n",
    "1. Give your Jupyter notebook a title\n",
    "<br>\n",
    "<br>\n",
    "\n",
    "2. Explore the dropdown menus used to edit cells: \n",
    "    - Add a cell\n",
    "    - write in a markdown cell\n",
    "        new to markdown? you can use this [cheatsheet](https://github.com/adam-p/markdown-here/wiki/Markdown-Cheatsheet)\n",
    "    - run some **simple** code: \n",
    "    \n",
    "        print your current directory with `pwd`; \n",
    "        \n",
    "        change your directory with `cd`; \n",
    "        \n",
    "        list out the files in your current directory with `ls`\n",
    "<br>\n",
    "<br>\n"
   ]
  },
  {
   "cell_type": "markdown",
   "metadata": {},
   "source": [
    "### Jupyter notebook command line\n",
    "\n",
    "\n",
    "The Jupyter notebook \"command line\" are the \"code\" cells. \n",
    "As you may have guessed when choosing a notebook, these cells, by default, take python code. \n",
    "\n",
    "Any output that would show up in the terminal will appear below your code cells. "
   ]
  },
  {
   "cell_type": "code",
   "execution_count": 18,
   "metadata": {
    "collapsed": false,
    "scrolled": true
   },
   "outputs": [
    {
     "name": "stdout",
     "output_type": "stream",
     "text": [
      "This code is in python\n"
     ]
    }
   ],
   "source": [
    "print \"This code is in python\""
   ]
  },
  {
   "cell_type": "code",
   "execution_count": 19,
   "metadata": {
    "collapsed": false
   },
   "outputs": [
    {
     "name": "stdout",
     "output_type": "stream",
     "text": [
      "are you sure?\n",
      "\n",
      "Yes.\n"
     ]
    }
   ],
   "source": [
    "print \"are you sure?\"\n",
    "print \"\"\n",
    "\n",
    "type = \"TRUE\"\n",
    "if type == \"TRUE\": \n",
    "    print \"Yes.\"\n"
   ]
  },
  {
   "cell_type": "markdown",
   "metadata": {},
   "source": [
    "However, you can also tell the notebook to act like a terminal command line that uses bash. \n",
    "<br>\n",
    "<br>\n",
    "\n",
    "**Bash coding in cells**\n",
    "\n",
    "For certain basic commands, such `cd` to change directories, you can simply enter them into the code cell.\n",
    "\n",
    "Otherwise, you **must tell the interpreter the command is in bash by using \"!\"**"
   ]
  },
  {
   "cell_type": "code",
   "execution_count": 10,
   "metadata": {
    "collapsed": false,
    "scrolled": true
   },
   "outputs": [
    {
     "ename": "SyntaxError",
     "evalue": "invalid syntax (<ipython-input-10-3d2bf1222bb3>, line 2)",
     "output_type": "error",
     "traceback": [
      "\u001b[0;36m  File \u001b[0;32m\"<ipython-input-10-3d2bf1222bb3>\"\u001b[0;36m, line \u001b[0;32m2\u001b[0m\n\u001b[0;31m    mkdir Practice\u001b[0m\n\u001b[0m                 ^\u001b[0m\n\u001b[0;31mSyntaxError\u001b[0m\u001b[0;31m:\u001b[0m invalid syntax\n"
     ]
    }
   ],
   "source": [
    "#make a directory called \"Practice\" in my current folder\n",
    "mkdir Practice"
   ]
  },
  {
   "cell_type": "code",
   "execution_count": 11,
   "metadata": {
    "collapsed": true
   },
   "outputs": [],
   "source": [
    "#correct syntax\n",
    "!mkdir Practice"
   ]
  },
  {
   "cell_type": "code",
   "execution_count": 12,
   "metadata": {
    "collapsed": false
   },
   "outputs": [
    {
     "name": "stdout",
     "output_type": "stream",
     "text": [
      "\u001b[0m\u001b[34;42mPractice\u001b[0m/  \u001b[01;32mReference \"Genome\".ipynb\u001b[0m*\r\n"
     ]
    }
   ],
   "source": [
    "#let's see if it worked\n",
    "ls"
   ]
  },
  {
   "cell_type": "code",
   "execution_count": 14,
   "metadata": {
    "collapsed": false
   },
   "outputs": [],
   "source": [
    "#removing the practice directory\n",
    "rm -r Practice/"
   ]
  },
  {
   "cell_type": "code",
   "execution_count": 15,
   "metadata": {
    "collapsed": false
   },
   "outputs": [
    {
     "name": "stdout",
     "output_type": "stream",
     "text": [
      "\u001b[0m\u001b[01;32mReference \"Genome\".ipynb\u001b[0m*\r\n"
     ]
    }
   ],
   "source": [
    "#make sure directory is gone\n",
    "ls"
   ]
  },
  {
   "cell_type": "markdown",
   "metadata": {},
   "source": [
    "<br>\n",
    "<Br>\n",
    "So which commands can you run with / without an exclamation mark? \n",
    "\n",
    "Certain commands are loaded into Jupyter Notebooks as defaults; those don't require a `!`. Others require you to tell the interpreter how to run the code. \n",
    "\n",
    "Here is a list of the available \"magic commands\" that you *do not* need to use a `!` with. "
   ]
  },
  {
   "cell_type": "code",
   "execution_count": 16,
   "metadata": {
    "collapsed": false,
    "scrolled": true
   },
   "outputs": [
    {
     "data": {
      "application/json": {
       "cell": {
        "!": "OSMagics",
        "HTML": "Other",
        "SVG": "Other",
        "bash": "Other",
        "capture": "ExecutionMagics",
        "debug": "ExecutionMagics",
        "file": "Other",
        "html": "DisplayMagics",
        "javascript": "DisplayMagics",
        "js": "DisplayMagics",
        "latex": "DisplayMagics",
        "perl": "Other",
        "prun": "ExecutionMagics",
        "pypy": "Other",
        "python": "Other",
        "python2": "Other",
        "python3": "Other",
        "ruby": "Other",
        "script": "ScriptMagics",
        "sh": "Other",
        "svg": "DisplayMagics",
        "sx": "OSMagics",
        "system": "OSMagics",
        "time": "ExecutionMagics",
        "timeit": "ExecutionMagics",
        "writefile": "OSMagics"
       },
       "line": {
        "alias": "OSMagics",
        "alias_magic": "BasicMagics",
        "autocall": "AutoMagics",
        "automagic": "AutoMagics",
        "autosave": "KernelMagics",
        "bookmark": "OSMagics",
        "cat": "Other",
        "cd": "OSMagics",
        "clear": "KernelMagics",
        "colors": "BasicMagics",
        "config": "ConfigMagics",
        "connect_info": "KernelMagics",
        "cp": "Other",
        "debug": "ExecutionMagics",
        "dhist": "OSMagics",
        "dirs": "OSMagics",
        "doctest_mode": "BasicMagics",
        "ed": "Other",
        "edit": "KernelMagics",
        "env": "OSMagics",
        "gui": "BasicMagics",
        "hist": "Other",
        "history": "HistoryMagics",
        "killbgscripts": "ScriptMagics",
        "ldir": "Other",
        "less": "KernelMagics",
        "lf": "Other",
        "lk": "Other",
        "ll": "Other",
        "load": "CodeMagics",
        "load_ext": "ExtensionMagics",
        "loadpy": "CodeMagics",
        "logoff": "LoggingMagics",
        "logon": "LoggingMagics",
        "logstart": "LoggingMagics",
        "logstate": "LoggingMagics",
        "logstop": "LoggingMagics",
        "ls": "Other",
        "lsmagic": "BasicMagics",
        "lx": "Other",
        "macro": "ExecutionMagics",
        "magic": "BasicMagics",
        "man": "KernelMagics",
        "matplotlib": "PylabMagics",
        "mkdir": "Other",
        "more": "KernelMagics",
        "mv": "Other",
        "notebook": "BasicMagics",
        "page": "BasicMagics",
        "pastebin": "CodeMagics",
        "pdb": "ExecutionMagics",
        "pdef": "NamespaceMagics",
        "pdoc": "NamespaceMagics",
        "pfile": "NamespaceMagics",
        "pinfo": "NamespaceMagics",
        "pinfo2": "NamespaceMagics",
        "popd": "OSMagics",
        "pprint": "BasicMagics",
        "precision": "BasicMagics",
        "profile": "BasicMagics",
        "prun": "ExecutionMagics",
        "psearch": "NamespaceMagics",
        "psource": "NamespaceMagics",
        "pushd": "OSMagics",
        "pwd": "OSMagics",
        "pycat": "OSMagics",
        "pylab": "PylabMagics",
        "qtconsole": "KernelMagics",
        "quickref": "BasicMagics",
        "recall": "HistoryMagics",
        "rehashx": "OSMagics",
        "reload_ext": "ExtensionMagics",
        "rep": "Other",
        "rerun": "HistoryMagics",
        "reset": "NamespaceMagics",
        "reset_selective": "NamespaceMagics",
        "rm": "Other",
        "rmdir": "Other",
        "run": "ExecutionMagics",
        "save": "CodeMagics",
        "sc": "OSMagics",
        "set_env": "OSMagics",
        "store": "StoreMagics",
        "sx": "OSMagics",
        "system": "OSMagics",
        "tb": "ExecutionMagics",
        "time": "ExecutionMagics",
        "timeit": "ExecutionMagics",
        "unalias": "OSMagics",
        "unload_ext": "ExtensionMagics",
        "who": "NamespaceMagics",
        "who_ls": "NamespaceMagics",
        "whos": "NamespaceMagics",
        "xdel": "NamespaceMagics",
        "xmode": "BasicMagics"
       }
      },
      "text/plain": [
       "Available line magics:\n",
       "%alias  %alias_magic  %autocall  %automagic  %autosave  %bookmark  %cat  %cd  %clear  %colors  %config  %connect_info  %cp  %debug  %dhist  %dirs  %doctest_mode  %ed  %edit  %env  %gui  %hist  %history  %killbgscripts  %ldir  %less  %lf  %lk  %ll  %load  %load_ext  %loadpy  %logoff  %logon  %logstart  %logstate  %logstop  %ls  %lsmagic  %lx  %macro  %magic  %man  %matplotlib  %mkdir  %more  %mv  %notebook  %page  %pastebin  %pdb  %pdef  %pdoc  %pfile  %pinfo  %pinfo2  %popd  %pprint  %precision  %profile  %prun  %psearch  %psource  %pushd  %pwd  %pycat  %pylab  %qtconsole  %quickref  %recall  %rehashx  %reload_ext  %rep  %rerun  %reset  %reset_selective  %rm  %rmdir  %run  %save  %sc  %set_env  %store  %sx  %system  %tb  %time  %timeit  %unalias  %unload_ext  %who  %who_ls  %whos  %xdel  %xmode\n",
       "\n",
       "Available cell magics:\n",
       "%%!  %%HTML  %%SVG  %%bash  %%capture  %%debug  %%file  %%html  %%javascript  %%js  %%latex  %%perl  %%prun  %%pypy  %%python  %%python2  %%python3  %%ruby  %%script  %%sh  %%svg  %%sx  %%system  %%time  %%timeit  %%writefile\n",
       "\n",
       "Automagic is ON, % prefix IS NOT needed for line magics."
      ]
     },
     "execution_count": 16,
     "metadata": {},
     "output_type": "execute_result"
    }
   ],
   "source": [
    "%lsmagic"
   ]
  },
  {
   "cell_type": "markdown",
   "metadata": {},
   "source": [
    "<br>\n",
    "<br>\n",
    "Any time that you want to run a `bash` command that is **not** listed above, you need to provide a `!`. \n",
    "\n",
    "For example, we often run python scripts that take arguments at the command line. This is how you would run that script: "
   ]
  },
  {
   "cell_type": "code",
   "execution_count": 21,
   "metadata": {
    "collapsed": false
   },
   "outputs": [
    {
     "data": {
      "text/plain": [
       "u'/mnt/hgfs/Pacific cod/DataAnalysis/PCod-Korea-repo/notebooks'"
      ]
     },
     "execution_count": 21,
     "metadata": {},
     "output_type": "execute_result"
    }
   ],
   "source": [
    "pwd"
   ]
  },
  {
   "cell_type": "code",
   "execution_count": 22,
   "metadata": {
    "collapsed": false
   },
   "outputs": [
    {
     "name": "stdout",
     "output_type": "stream",
     "text": [
      "/mnt/hgfs/Pacific cod/FISH_510\n"
     ]
    }
   ],
   "source": [
    "cd ../../../FISH_510/"
   ]
  },
  {
   "cell_type": "code",
   "execution_count": 24,
   "metadata": {
    "collapsed": false
   },
   "outputs": [
    {
     "name": "stdout",
     "output_type": "stream",
     "text": [
      "Congratulations Mary, you have officially run a python script from Jupyter Notebook!\r\n"
     ]
    }
   ],
   "source": [
    "!python test_script.py Mary"
   ]
  },
  {
   "cell_type": "markdown",
   "metadata": {},
   "source": [
    "<br>\n",
    "<br>\n",
    "**Exercise: ** [Download](https://github.com/mfisher5/FISH_510/blob/master/test_script.py) and run the `test_script.py` in your code cell. Or, if you want to write your own short python script, you can run that here too. "
   ]
  },
  {
   "cell_type": "markdown",
   "metadata": {},
   "source": [
    "<br>\n",
    "\n",
    "**Running bash subprocesses**\n",
    "\n",
    "Tell the interpreter that you want to run a bash subprocess by using `%%bash`"
   ]
  },
  {
   "cell_type": "code",
   "execution_count": 17,
   "metadata": {
    "collapsed": false
   },
   "outputs": [
    {
     "name": "stdout",
     "output_type": "stream",
     "text": [
      "a\n",
      "b\n",
      "c\n"
     ]
    }
   ],
   "source": [
    "%%bash \n",
    "for i in a b c;\n",
    "do \n",
    "echo $i\n",
    "done"
   ]
  },
  {
   "cell_type": "markdown",
   "metadata": {
    "collapsed": true
   },
   "source": [
    "### Running \"R\" from within Jupyter Notebook\n",
    "\n",
    "** Install **\n",
    "\n",
    "You need to have R already installed on your computer.\n",
    "\n",
    "You can run R from Jupyter notebook in two ways: \n",
    "\n",
    "1. [Install rpy2](https://rpy2.bitbucket.io/), and run from the code cells using `%%R`\n",
    "\n",
    "2. [Install IRkernel from github](https://irkernel.github.io/installation/), which installs an \"R\" kernel that will show up as an option in the Kernel >> change kernel dropdown list\n",
    "\n",
    "3. Use an [R essentials environment](https://www.datacamp.com/community/blog/jupyter-notebook-r#gs.j43GqDA) in your notebook, which installs packages like `ggplot`, `shiny`, etc. \n",
    "\n",
    "\n",
    "\n",
    "** Run **\n",
    "\n",
    "Using rpy2\n",
    "![online image](http://revolution-computing.typepad.com/.a/6a010534b1db25970b01bb086ef987970d-500wi)\n",
    "\n",
    "\n",
    "Using R essentials environment"
   ]
  },
  {
   "cell_type": "code",
   "execution_count": 13,
   "metadata": {
    "collapsed": false
   },
   "outputs": [
    {
     "data": {
      "image/png": "[encoded data removed]",
      "text/plain": [
       "plot without title"
      ]
     },
     "metadata": {},
     "output_type": "display_data"
    }
   ],
   "source": [
    "abundance <- c(2.75, 2.755775, 2.758226125, 2.758508684, 2.756711238, 2.752924953, 2.747257831, 2.739828679, 2.730764006, 2.720195298, 2.708256665, 2.695082869, 2.680807726, 2.665562839, 2.64947664, 2.632673702, 2.61527428, 2.597394048, 2.579143993, 2.56063045, 2.541955224, 2.52321581, 2.504505657, 2.48591449, 2.467528651, 2.449431461, 2.43170359, 2.414423425, 2.397667428, 2.381510479, 2.366026199, 2.351287241, 2.337365544, 2.324332551, 2.312259362, 2.301216843, 2.291275644, 2.282506148, 2.274978311, 2.268761397, 2.263923569, 2.260531346, 2.258648883, 2.258337067, 2.25965241, 2.262645729, 2.267360601, 2.273831588, 2.282082257, 2.292123007, 2.303948754, 2.317536535, 2.332843126, 2.34980278, 2.368325242, 2.388294172, 2.409566174, 2.431970594, 2.455310237, 2.479363137, 2.503885444, 2.528615432, 2.553278543, 2.577593288, 2.601277774, 2.624056504, 2.645667124, 2.665866725, 2.684437385, 2.701190657, 2.71597083, 2.72865686, 2.739162981, 2.747438092, 2.753464087, 2.75725333, 2.758845514, 2.758304134, 2.755712773, 2.751171406, 2.744792847, 2.736699461, 2.727020203, 2.715888026, 2.703437685, 2.689803904, 2.67511991, 2.659516299, 2.64312018, 2.626054583, 2.608438087, 2.590384616, 2.572003399, 2.553399037, 2.534671673, 2.515917228, 2.497227695, 2.478691467, 2.460393689, 2.442416628, 2.424840043, 2.407741548, 2.39119697, 2.375280683, 2.360065922, 2.345625057, 2.332029843, 2.319351604, 2.307661381, 2.297029996, 2.28752806, 2.279225867, 2.272193206, 2.266499037, 2.262211036, 2.25939498, 2.258113963, 2.25842741, 2.260389892, 2.264049711, 2.269447267, 2.276613201, 2.285566326, 2.296311391, 2.308836723, 2.323111815, 2.33908497, 2.356681125, 2.375799995, 2.396314706, 2.418071101, 2.440887871, 2.464557672, 2.488849324, 2.513511146, 2.538275385, 2.562863636, 2.58699303, 2.610382923, 2.63276174, 2.653873599, 2.673484374, 2.691386864, 2.70740483, 2.721395745, 2.733252209, 2.74290206, 2.750307331, 2.755462201, 2.758390203, 2.759140891, 2.757786208, 2.754416754, 2.749138119, 2.742067417, 2.733330113, 2.7230572, 2.711382756, 2.698441889, 2.68436905, 2.6692967, 2.653354287, 2.636667501, 2.619357768, 2.601541952, 2.583332223, 2.564836053, 2.546156338, 2.527391592, 2.508636207, 2.489980769, 2.471512391, 2.453315081, 2.435470109, 2.418056378, 2.401150786, 2.384828577, 2.36916367, 2.354228957, 2.34009657, 2.326838104, 2.314524797, 2.303227639, 2.293017421, 2.283964698, 2.276139657, 2.269611873, 2.264449945, 2.260720973, 2.258489885, 2.257818572, 2.25876483, 2.261381081, 2.265712878, 2.271797175, 2.279660385, 2.289316239, 2.300763487, 2.313983508, 2.328937895, 2.345566152, 2.363783613, 2.38347975, 2.404517042, 2.426730575, 2.449928539, 2.473893757, 2.498386323, 2.523147377, 2.547903949, 2.572374713, 2.596276428, 2.619330738, 2.641270994, 2.661848716, 2.680839358, 2.698047067, 2.713308242, 2.72649377, 2.737509925, 2.746298004, 2.752832865, 2.757120555, 2.759195269, 2.759115868, 2.756962172, 2.752831232, 2.746833718, 2.739090551, 2.729729859, 2.718884289, 2.706688723, 2.693278355, 2.678787154, 2.663346649, 2.647085022, 2.63012646, 2.612590735, 2.594592975, 2.576243587, 2.557648307, 2.538908351, 2.520120642, 2.501378092, 2.482769929, 2.464382045, 2.446297365, 2.428596219, 2.41135671, 2.394655077, 2.378566033)\n",
    "time <- c(0, 0.07, 0.14, 0.21, 0.28, 0.35, 0.42, 0.49, 0.56, 0.63, 0.7, 0.77, 0.84, 0.91, 0.98, 1.05, 1.12, 1.19, 1.26, 1.33, 1.4, 1.47, 1.54, 1.61, 1.68, 1.75, 1.82, 1.89, 1.96, 2.03, 2.1, 2.17, 2.24, 2.31, 2.38, 2.45, 2.52, 2.59, 2.66, 2.73, 2.8, 2.87, 2.94, 3.01, 3.08, 3.15, 3.22, 3.29, 3.36, 3.43, 3.5, 3.57, 3.64, 3.71, 3.78, 3.85, 3.92, 3.99, 4.06, 4.13, 4.2, 4.27, 4.34, 4.41, 4.48, 4.55, 4.62, 4.69, 4.76, 4.83, 4.9, 4.97, 5.04, 5.11, 5.18, 5.25, 5.32, 5.39, 5.46, 5.53, 5.6, 5.67, 5.74, 5.81, 5.88, 5.95, 6.02, 6.09, 6.16, 6.23, 6.3, 6.37, 6.44, 6.51, 6.58, 6.65, 6.72, 6.79, 6.86, 6.93, 7, 7.07, 7.14, 7.21, 7.28, 7.35, 7.42, 7.49, 7.56, 7.63, 7.7, 7.77, 7.84, 7.91, 7.98, 8.05, 8.12, 8.19, 8.26, 8.33, 8.4, 8.47, 8.54, 8.61, 8.68, 8.75, 8.82, 8.89, 8.96, 9.03, 9.1, 9.17, 9.24, 9.31, 9.38, 9.45, 9.52, 9.59, 9.66, 9.73, 9.8, 9.87, 9.94, 10.01, 10.08, 10.15, 10.22, 10.29, 10.36, 10.43, 10.5, 10.57, 10.64, 10.71, 10.78, 10.85, 10.92, 10.99, 11.06, 11.13, 11.2, 11.27, 11.34, 11.41, 11.48, 11.55, 11.62, 11.69, 11.76, 11.83, 11.9, 11.97, 12.04, 12.11, 12.18, 12.25, 12.32, 12.39, 12.46, 12.53, 12.6, 12.67, 12.74, 12.81, 12.88, 12.95, 13.02, 13.09, 13.16, 13.23, 13.3, 13.37, 13.44, 13.51, 13.58, 13.65, 13.72, 13.79, 13.86, 13.93, 14, 14.07, 14.14, 14.21, 14.28, 14.35, 14.42, 14.49, 14.56, 14.63, 14.7, 14.77, 14.84, 14.91, 14.98, 15.05, 15.12, 15.19, 15.26, 15.33, 15.4, 15.47, 15.54, 15.61, 15.68, 15.75, 15.82, 15.89, 15.96, 16.03, 16.1, 16.17, 16.24, 16.31, 16.38, 16.45, 16.52, 16.59, 16.66, 16.73, 16.8, 16.87, 16.94, 17.01, 17.08, 17.15, 17.22, 17.29, 17.36, 17.43, 17.5)\n",
    "data <- cbind(time,abundance)\n",
    "type <- c(rep(\"lightblue\", times = 251))\n",
    "plot(x = time, y = abundance, pch = 19, col = type, xlab = \"Time (years)\", ylab = \"Abundance\", cex.lab = 1.5)"
   ]
  },
  {
   "cell_type": "markdown",
   "metadata": {},
   "source": [
    "### Other programs you can run from within Jupyter Notebook\n",
    "\n",
    "- LaTeX\n",
    "- Ruby \n",
    "- Perl\n",
    "- Matlab\n",
    "\n",
    "... and more! see the full list [here](https://github.com/jupyter/jupyter/wiki/Jupyter-kernels\")"
   ]
  },
  {
   "cell_type": "code",
   "execution_count": null,
   "metadata": {
    "collapsed": true
   },
   "outputs": [],
   "source": []
  }
 ],
 "metadata": {
  "anaconda-cloud": {},
  "kernelspec": {
   "display_name": "Python [default]",
   "language": "python",
   "name": "python2"
  },
  "language_info": {
   "codemirror_mode": {
    "name": "ipython",
    "version": 2
   },
   "file_extension": ".py",
   "mimetype": "text/x-python",
   "name": "python",
   "nbconvert_exporter": "python",
   "pygments_lexer": "ipython2",
   "version": "2.7.12"
  }
 },
 "nbformat": 4,
 "nbformat_minor": 1
}
